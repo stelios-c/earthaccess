{
 "cells": [
  {
   "cell_type": "markdown",
   "id": "fe0e1606-699a-4f1c-8348-209cf4ca84e6",
   "metadata": {},
   "source": [
    "# NASA EarthData Login (EDL)\n",
    "### Authentication for data on-prem and in the cloud\n",
    "\n",
    "> This tutorial assumes you already know the dataset's `short_name` or the dataset's `concept_id`."
   ]
  },
  {
   "cell_type": "code",
   "execution_count": 1,
   "id": "adc12546-827a-4d14-b92e-cf10e3823231",
   "metadata": {},
   "outputs": [
    {
     "name": "stderr",
     "output_type": "stream",
     "text": [
      "/usr/local/python/3.12.1/lib/python3.12/site-packages/tqdm/auto.py:21: TqdmWarning: IProgress not found. Please update jupyter and ipywidgets. See https://ipywidgets.readthedocs.io/en/stable/user_install.html\n",
      "  from .autonotebook import tqdm as notebook_tqdm\n"
     ]
    },
    {
     "name": "stdin",
     "output_type": "stream",
     "text": [
      "Enter your Earthdata Login username:  anonymous@anonymous.com\n",
      "Enter your Earthdata password:  ········\n"
     ]
    },
    {
     "name": "stderr",
     "output_type": "stream",
     "text": [
      "Authentication with Earthdata Login failed with:\n",
      "{\"error\":\"invalid_credentials\",\"error_description\":\"Invalid user credentials\"}\n"
     ]
    },
    {
     "ename": "LoginAttemptFailure",
     "evalue": "Authentication with Earthdata Login failed with:\n{\"error\":\"invalid_credentials\",\"error_description\":\"Invalid user credentials\"}",
     "output_type": "error",
     "traceback": [
      "\u001b[31m---------------------------------------------------------------------------\u001b[39m",
      "\u001b[31mLoginAttemptFailure\u001b[39m                       Traceback (most recent call last)",
      "\u001b[36mCell\u001b[39m\u001b[36m \u001b[39m\u001b[32mIn[1]\u001b[39m\u001b[32m, line 3\u001b[39m\n\u001b[32m      1\u001b[39m \u001b[38;5;28;01mimport\u001b[39;00m\u001b[38;5;250m \u001b[39m\u001b[34;01mearthaccess\u001b[39;00m\n\u001b[32m----> \u001b[39m\u001b[32m3\u001b[39m auth = \u001b[43mearthaccess\u001b[49m\u001b[43m.\u001b[49m\u001b[43mlogin\u001b[49m\u001b[43m(\u001b[49m\u001b[43m)\u001b[49m\n\u001b[32m      4\u001b[39m \u001b[38;5;28mprint\u001b[39m(\u001b[33mf\u001b[39m\u001b[33m\"\u001b[39m\u001b[33mUsing earthaccess version \u001b[39m\u001b[38;5;132;01m{\u001b[39;00mearthaccess.__version__\u001b[38;5;132;01m}\u001b[39;00m\u001b[33m\"\u001b[39m)\n\u001b[32m      5\u001b[39m \u001b[38;5;66;03m# are we authenticated\u001b[39;00m\n",
      "\u001b[36mFile \u001b[39m\u001b[32m/usr/local/python/3.12.1/lib/python3.12/site-packages/earthaccess/api.py:205\u001b[39m, in \u001b[36mlogin\u001b[39m\u001b[34m(strategy, persist, system)\u001b[39m\n\u001b[32m    203\u001b[39m \u001b[38;5;28;01mfor\u001b[39;00m strategy \u001b[38;5;129;01min\u001b[39;00m [\u001b[33m\"\u001b[39m\u001b[33menvironment\u001b[39m\u001b[33m\"\u001b[39m, \u001b[33m\"\u001b[39m\u001b[33mnetrc\u001b[39m\u001b[33m\"\u001b[39m, \u001b[33m\"\u001b[39m\u001b[33minteractive\u001b[39m\u001b[33m\"\u001b[39m]:\n\u001b[32m    204\u001b[39m     \u001b[38;5;28;01mtry\u001b[39;00m:\n\u001b[32m--> \u001b[39m\u001b[32m205\u001b[39m         \u001b[43mearthaccess\u001b[49m\u001b[43m.\u001b[49m\u001b[43m__auth__\u001b[49m\u001b[43m.\u001b[49m\u001b[43mlogin\u001b[49m\u001b[43m(\u001b[49m\n\u001b[32m    206\u001b[39m \u001b[43m            \u001b[49m\u001b[43mstrategy\u001b[49m\u001b[43m=\u001b[49m\u001b[43mstrategy\u001b[49m\u001b[43m,\u001b[49m\n\u001b[32m    207\u001b[39m \u001b[43m            \u001b[49m\u001b[43mpersist\u001b[49m\u001b[43m=\u001b[49m\u001b[43mpersist\u001b[49m\u001b[43m,\u001b[49m\n\u001b[32m    208\u001b[39m \u001b[43m            \u001b[49m\u001b[43msystem\u001b[49m\u001b[43m=\u001b[49m\u001b[43msystem\u001b[49m\u001b[43m,\u001b[49m\n\u001b[32m    209\u001b[39m \u001b[43m        \u001b[49m\u001b[43m)\u001b[49m\n\u001b[32m    210\u001b[39m     \u001b[38;5;28;01mexcept\u001b[39;00m LoginStrategyUnavailable \u001b[38;5;28;01mas\u001b[39;00m err:\n\u001b[32m    211\u001b[39m         logger.debug(err)\n",
      "\u001b[36mFile \u001b[39m\u001b[32m/usr/local/python/3.12.1/lib/python3.12/site-packages/earthaccess/auth.py:132\u001b[39m, in \u001b[36mAuth.login\u001b[39m\u001b[34m(self, strategy, persist, system)\u001b[39m\n\u001b[32m    129\u001b[39m     \u001b[38;5;28;01mreturn\u001b[39;00m \u001b[38;5;28mself\u001b[39m\n\u001b[32m    131\u001b[39m \u001b[38;5;28;01mif\u001b[39;00m strategy == \u001b[33m\"\u001b[39m\u001b[33minteractive\u001b[39m\u001b[33m\"\u001b[39m:\n\u001b[32m--> \u001b[39m\u001b[32m132\u001b[39m     \u001b[38;5;28;43mself\u001b[39;49m\u001b[43m.\u001b[49m\u001b[43m_interactive\u001b[49m\u001b[43m(\u001b[49m\u001b[43mpersist\u001b[49m\u001b[43m)\u001b[49m\n\u001b[32m    133\u001b[39m \u001b[38;5;28;01melif\u001b[39;00m strategy == \u001b[33m\"\u001b[39m\u001b[33mnetrc\u001b[39m\u001b[33m\"\u001b[39m:\n\u001b[32m    134\u001b[39m     \u001b[38;5;28mself\u001b[39m._netrc()\n",
      "\u001b[36mFile \u001b[39m\u001b[32m/usr/local/python/3.12.1/lib/python3.12/site-packages/earthaccess/auth.py:248\u001b[39m, in \u001b[36mAuth._interactive\u001b[39m\u001b[34m(self, persist_credentials)\u001b[39m\n\u001b[32m    246\u001b[39m username = \u001b[38;5;28minput\u001b[39m(\u001b[33m\"\u001b[39m\u001b[33mEnter your Earthdata Login username: \u001b[39m\u001b[33m\"\u001b[39m)\n\u001b[32m    247\u001b[39m password = getpass.getpass(prompt=\u001b[33m\"\u001b[39m\u001b[33mEnter your Earthdata password: \u001b[39m\u001b[33m\"\u001b[39m)\n\u001b[32m--> \u001b[39m\u001b[32m248\u001b[39m authenticated = \u001b[38;5;28;43mself\u001b[39;49m\u001b[43m.\u001b[49m\u001b[43m_get_credentials\u001b[49m\u001b[43m(\u001b[49m\u001b[43musername\u001b[49m\u001b[43m,\u001b[49m\u001b[43m \u001b[49m\u001b[43mpassword\u001b[49m\u001b[43m)\u001b[49m\n\u001b[32m    249\u001b[39m \u001b[38;5;28;01mif\u001b[39;00m authenticated:\n\u001b[32m    250\u001b[39m     logger.debug(\u001b[33m\"\u001b[39m\u001b[33mUsing user provided credentials for EDL\u001b[39m\u001b[33m\"\u001b[39m)\n",
      "\u001b[36mFile \u001b[39m\u001b[32m/usr/local/python/3.12.1/lib/python3.12/site-packages/earthaccess/auth.py:316\u001b[39m, in \u001b[36mAuth._get_credentials\u001b[39m\u001b[34m(self, username, password)\u001b[39m\n\u001b[32m    314\u001b[39m     msg = \u001b[33mf\u001b[39m\u001b[33m\"\u001b[39m\u001b[33mAuthentication with Earthdata Login failed with:\u001b[39m\u001b[38;5;130;01m\\n\u001b[39;00m\u001b[38;5;132;01m{\u001b[39;00mtoken_resp.text\u001b[38;5;132;01m}\u001b[39;00m\u001b[33m\"\u001b[39m\n\u001b[32m    315\u001b[39m     logger.error(msg)\n\u001b[32m--> \u001b[39m\u001b[32m316\u001b[39m     \u001b[38;5;28;01mraise\u001b[39;00m LoginAttemptFailure(msg)\n\u001b[32m    318\u001b[39m logger.info(\u001b[33m\"\u001b[39m\u001b[33mYou\u001b[39m\u001b[33m'\u001b[39m\u001b[33mre now authenticated with NASA Earthdata Login\u001b[39m\u001b[33m\"\u001b[39m)\n\u001b[32m    319\u001b[39m \u001b[38;5;28mself\u001b[39m.username = username\n",
      "\u001b[31mLoginAttemptFailure\u001b[39m: Authentication with Earthdata Login failed with:\n{\"error\":\"invalid_credentials\",\"error_description\":\"Invalid user credentials\"}"
     ]
    }
   ],
   "source": [
    "import earthaccess\n",
    "\n",
    "auth = earthaccess.login()\n",
    "print(f\"Using earthaccess version {earthaccess.__version__}\")\n",
    "# are we authenticated"
   ]
  },
  {
   "cell_type": "code",
   "execution_count": 2,
   "id": "901a1c21-29c1-4534-97bb-e4a75e63a477",
   "metadata": {},
   "outputs": [
    {
     "ename": "LoginStrategyUnavailable",
     "evalue": "EARTHDATA_USERNAME and EARTHDATA_PASSWORD are not set in the current environment, try setting them or use a different strategy (netrc, interactive)",
     "output_type": "error",
     "traceback": [
      "\u001b[31m---------------------------------------------------------------------------\u001b[39m",
      "\u001b[31mLoginStrategyUnavailable\u001b[39m                  Traceback (most recent call last)",
      "\u001b[36mCell\u001b[39m\u001b[36m \u001b[39m\u001b[32mIn[2]\u001b[39m\u001b[32m, line 1\u001b[39m\n\u001b[32m----> \u001b[39m\u001b[32m1\u001b[39m auth = \u001b[43mearthaccess\u001b[49m\u001b[43m.\u001b[49m\u001b[43mlogin\u001b[49m\u001b[43m(\u001b[49m\u001b[43mstrategy\u001b[49m\u001b[43m=\u001b[49m\u001b[33;43m\"\u001b[39;49m\u001b[33;43menvironment\u001b[39;49m\u001b[33;43m\"\u001b[39;49m\u001b[43m)\u001b[49m\n",
      "\u001b[36mFile \u001b[39m\u001b[32m/usr/local/python/3.12.1/lib/python3.12/site-packages/earthaccess/api.py:218\u001b[39m, in \u001b[36mlogin\u001b[39m\u001b[34m(strategy, persist, system)\u001b[39m\n\u001b[32m    216\u001b[39m             \u001b[38;5;28;01mbreak\u001b[39;00m\n\u001b[32m    217\u001b[39m \u001b[38;5;28;01melse\u001b[39;00m:\n\u001b[32m--> \u001b[39m\u001b[32m218\u001b[39m     \u001b[43mearthaccess\u001b[49m\u001b[43m.\u001b[49m\u001b[43m__auth__\u001b[49m\u001b[43m.\u001b[49m\u001b[43mlogin\u001b[49m\u001b[43m(\u001b[49m\n\u001b[32m    219\u001b[39m \u001b[43m        \u001b[49m\u001b[43mstrategy\u001b[49m\u001b[43m=\u001b[49m\u001b[43mstrategy\u001b[49m\u001b[43m,\u001b[49m\n\u001b[32m    220\u001b[39m \u001b[43m        \u001b[49m\u001b[43mpersist\u001b[49m\u001b[43m=\u001b[49m\u001b[43mpersist\u001b[49m\u001b[43m,\u001b[49m\n\u001b[32m    221\u001b[39m \u001b[43m        \u001b[49m\u001b[43msystem\u001b[49m\u001b[43m=\u001b[49m\u001b[43msystem\u001b[49m\u001b[43m,\u001b[49m\n\u001b[32m    222\u001b[39m \u001b[43m    \u001b[49m\u001b[43m)\u001b[49m\n\u001b[32m    223\u001b[39m     \u001b[38;5;28;01mif\u001b[39;00m earthaccess.__auth__.authenticated:\n\u001b[32m    224\u001b[39m         earthaccess.__store__ = Store(earthaccess.__auth__)\n",
      "\u001b[36mFile \u001b[39m\u001b[32m/usr/local/python/3.12.1/lib/python3.12/site-packages/earthaccess/auth.py:136\u001b[39m, in \u001b[36mAuth.login\u001b[39m\u001b[34m(self, strategy, persist, system)\u001b[39m\n\u001b[32m    134\u001b[39m     \u001b[38;5;28mself\u001b[39m._netrc()\n\u001b[32m    135\u001b[39m \u001b[38;5;28;01melif\u001b[39;00m strategy == \u001b[33m\"\u001b[39m\u001b[33menvironment\u001b[39m\u001b[33m\"\u001b[39m:\n\u001b[32m--> \u001b[39m\u001b[32m136\u001b[39m     \u001b[38;5;28;43mself\u001b[39;49m\u001b[43m.\u001b[49m\u001b[43m_environment\u001b[49m\u001b[43m(\u001b[49m\u001b[43m)\u001b[49m\n\u001b[32m    138\u001b[39m \u001b[38;5;28;01mreturn\u001b[39;00m \u001b[38;5;28mself\u001b[39m\n",
      "\u001b[36mFile \u001b[39m\u001b[32m/usr/local/python/3.12.1/lib/python3.12/site-packages/earthaccess/auth.py:297\u001b[39m, in \u001b[36mAuth._environment\u001b[39m\u001b[34m(self)\u001b[39m\n\u001b[32m    294\u001b[39m password = os.getenv(\u001b[33m\"\u001b[39m\u001b[33mEARTHDATA_PASSWORD\u001b[39m\u001b[33m\"\u001b[39m)\n\u001b[32m    296\u001b[39m \u001b[38;5;28;01mif\u001b[39;00m \u001b[38;5;129;01mnot\u001b[39;00m username \u001b[38;5;129;01mor\u001b[39;00m \u001b[38;5;129;01mnot\u001b[39;00m password:\n\u001b[32m--> \u001b[39m\u001b[32m297\u001b[39m     \u001b[38;5;28;01mraise\u001b[39;00m LoginStrategyUnavailable(\n\u001b[32m    298\u001b[39m         \u001b[33m\"\u001b[39m\u001b[33mEARTHDATA_USERNAME and EARTHDATA_PASSWORD are not set in the current environment, try \u001b[39m\u001b[33m\"\u001b[39m\n\u001b[32m    299\u001b[39m         \u001b[33m\"\u001b[39m\u001b[33msetting them or use a different strategy (netrc, interactive)\u001b[39m\u001b[33m\"\u001b[39m\n\u001b[32m    300\u001b[39m     )\n\u001b[32m    302\u001b[39m logger.debug(\u001b[33m\"\u001b[39m\u001b[33mUsing environment variables for EDL\u001b[39m\u001b[33m\"\u001b[39m)\n\u001b[32m    303\u001b[39m \u001b[38;5;28;01mreturn\u001b[39;00m \u001b[38;5;28mself\u001b[39m._get_credentials(username, password)\n",
      "\u001b[31mLoginStrategyUnavailable\u001b[39m: EARTHDATA_USERNAME and EARTHDATA_PASSWORD are not set in the current environment, try setting them or use a different strategy (netrc, interactive)"
     ]
    }
   ],
   "source": [
    "auth = earthaccess.login(strategy=\"environment\")"
   ]
  },
  {
   "cell_type": "code",
   "execution_count": 3,
   "id": "668d4bce-3a26-4e54-be30-6be2bc82bd44",
   "metadata": {},
   "outputs": [
    {
     "ename": "LoginStrategyUnavailable",
     "evalue": "No .netrc found at /home/codespace/.netrc",
     "output_type": "error",
     "traceback": [
      "\u001b[31m---------------------------------------------------------------------------\u001b[39m",
      "\u001b[31mFileNotFoundError\u001b[39m                         Traceback (most recent call last)",
      "\u001b[36mFile \u001b[39m\u001b[32m/usr/local/python/3.12.1/lib/python3.12/site-packages/earthaccess/auth.py:259\u001b[39m, in \u001b[36mAuth._netrc\u001b[39m\u001b[34m(self)\u001b[39m\n\u001b[32m    258\u001b[39m \u001b[38;5;28;01mtry\u001b[39;00m:\n\u001b[32m--> \u001b[39m\u001b[32m259\u001b[39m     my_netrc = \u001b[43mNetrc\u001b[49m\u001b[43m(\u001b[49m\u001b[38;5;28;43mstr\u001b[39;49m\u001b[43m(\u001b[49m\u001b[43mnetrc_loc\u001b[49m\u001b[43m)\u001b[49m\u001b[43m)\u001b[49m\n\u001b[32m    260\u001b[39m \u001b[38;5;28;01mexcept\u001b[39;00m \u001b[38;5;167;01mFileNotFoundError\u001b[39;00m \u001b[38;5;28;01mas\u001b[39;00m err:\n",
      "\u001b[36mFile \u001b[39m\u001b[32m/usr/local/python/3.12.1/lib/python3.12/site-packages/tinynetrc.py:44\u001b[39m, in \u001b[36mNetrc.__init__\u001b[39m\u001b[34m(self, file)\u001b[39m\n\u001b[32m     43\u001b[39m \u001b[38;5;28mself\u001b[39m.file = file\n\u001b[32m---> \u001b[39m\u001b[32m44\u001b[39m \u001b[38;5;28mself\u001b[39m._netrc = \u001b[43mnetrc\u001b[49m\u001b[43m.\u001b[49m\u001b[43mnetrc\u001b[49m\u001b[43m(\u001b[49m\u001b[43mfile\u001b[49m\u001b[43m)\u001b[49m\n\u001b[32m     45\u001b[39m \u001b[38;5;28mself\u001b[39m.machines = dictify_hosts(\u001b[38;5;28mself\u001b[39m._netrc.hosts)\n",
      "\u001b[36mFile \u001b[39m\u001b[32m/usr/local/python/3.12.1/lib/python3.12/netrc.py:74\u001b[39m, in \u001b[36mnetrc.__init__\u001b[39m\u001b[34m(self, file)\u001b[39m\n\u001b[32m     73\u001b[39m \u001b[38;5;28;01mtry\u001b[39;00m:\n\u001b[32m---> \u001b[39m\u001b[32m74\u001b[39m     \u001b[38;5;28;01mwith\u001b[39;00m \u001b[38;5;28;43mopen\u001b[39;49m\u001b[43m(\u001b[49m\u001b[43mfile\u001b[49m\u001b[43m,\u001b[49m\u001b[43m \u001b[49m\u001b[43mencoding\u001b[49m\u001b[43m=\u001b[49m\u001b[33;43m\"\u001b[39;49m\u001b[33;43mutf-8\u001b[39;49m\u001b[33;43m\"\u001b[39;49m\u001b[43m)\u001b[49m \u001b[38;5;28;01mas\u001b[39;00m fp:\n\u001b[32m     75\u001b[39m         \u001b[38;5;28mself\u001b[39m._parse(file, fp, default_netrc)\n",
      "\u001b[31mFileNotFoundError\u001b[39m: [Errno 2] No such file or directory: '/home/codespace/.netrc'",
      "\nThe above exception was the direct cause of the following exception:\n",
      "\u001b[31mLoginStrategyUnavailable\u001b[39m                  Traceback (most recent call last)",
      "\u001b[36mCell\u001b[39m\u001b[36m \u001b[39m\u001b[32mIn[3]\u001b[39m\u001b[32m, line 1\u001b[39m\n\u001b[32m----> \u001b[39m\u001b[32m1\u001b[39m auth = \u001b[43mearthaccess\u001b[49m\u001b[43m.\u001b[49m\u001b[43mlogin\u001b[49m\u001b[43m(\u001b[49m\u001b[43mstrategy\u001b[49m\u001b[43m=\u001b[49m\u001b[33;43m\"\u001b[39;49m\u001b[33;43mnetrc\u001b[39;49m\u001b[33;43m\"\u001b[39;49m\u001b[43m)\u001b[49m\n",
      "\u001b[36mFile \u001b[39m\u001b[32m/usr/local/python/3.12.1/lib/python3.12/site-packages/earthaccess/api.py:218\u001b[39m, in \u001b[36mlogin\u001b[39m\u001b[34m(strategy, persist, system)\u001b[39m\n\u001b[32m    216\u001b[39m             \u001b[38;5;28;01mbreak\u001b[39;00m\n\u001b[32m    217\u001b[39m \u001b[38;5;28;01melse\u001b[39;00m:\n\u001b[32m--> \u001b[39m\u001b[32m218\u001b[39m     \u001b[43mearthaccess\u001b[49m\u001b[43m.\u001b[49m\u001b[43m__auth__\u001b[49m\u001b[43m.\u001b[49m\u001b[43mlogin\u001b[49m\u001b[43m(\u001b[49m\n\u001b[32m    219\u001b[39m \u001b[43m        \u001b[49m\u001b[43mstrategy\u001b[49m\u001b[43m=\u001b[49m\u001b[43mstrategy\u001b[49m\u001b[43m,\u001b[49m\n\u001b[32m    220\u001b[39m \u001b[43m        \u001b[49m\u001b[43mpersist\u001b[49m\u001b[43m=\u001b[49m\u001b[43mpersist\u001b[49m\u001b[43m,\u001b[49m\n\u001b[32m    221\u001b[39m \u001b[43m        \u001b[49m\u001b[43msystem\u001b[49m\u001b[43m=\u001b[49m\u001b[43msystem\u001b[49m\u001b[43m,\u001b[49m\n\u001b[32m    222\u001b[39m \u001b[43m    \u001b[49m\u001b[43m)\u001b[49m\n\u001b[32m    223\u001b[39m     \u001b[38;5;28;01mif\u001b[39;00m earthaccess.__auth__.authenticated:\n\u001b[32m    224\u001b[39m         earthaccess.__store__ = Store(earthaccess.__auth__)\n",
      "\u001b[36mFile \u001b[39m\u001b[32m/usr/local/python/3.12.1/lib/python3.12/site-packages/earthaccess/auth.py:134\u001b[39m, in \u001b[36mAuth.login\u001b[39m\u001b[34m(self, strategy, persist, system)\u001b[39m\n\u001b[32m    132\u001b[39m     \u001b[38;5;28mself\u001b[39m._interactive(persist)\n\u001b[32m    133\u001b[39m \u001b[38;5;28;01melif\u001b[39;00m strategy == \u001b[33m\"\u001b[39m\u001b[33mnetrc\u001b[39m\u001b[33m\"\u001b[39m:\n\u001b[32m--> \u001b[39m\u001b[32m134\u001b[39m     \u001b[38;5;28;43mself\u001b[39;49m\u001b[43m.\u001b[49m\u001b[43m_netrc\u001b[49m\u001b[43m(\u001b[49m\u001b[43m)\u001b[49m\n\u001b[32m    135\u001b[39m \u001b[38;5;28;01melif\u001b[39;00m strategy == \u001b[33m\"\u001b[39m\u001b[33menvironment\u001b[39m\u001b[33m\"\u001b[39m:\n\u001b[32m    136\u001b[39m     \u001b[38;5;28mself\u001b[39m._environment()\n",
      "\u001b[36mFile \u001b[39m\u001b[32m/usr/local/python/3.12.1/lib/python3.12/site-packages/earthaccess/auth.py:261\u001b[39m, in \u001b[36mAuth._netrc\u001b[39m\u001b[34m(self)\u001b[39m\n\u001b[32m    259\u001b[39m     my_netrc = Netrc(\u001b[38;5;28mstr\u001b[39m(netrc_loc))\n\u001b[32m    260\u001b[39m \u001b[38;5;28;01mexcept\u001b[39;00m \u001b[38;5;167;01mFileNotFoundError\u001b[39;00m \u001b[38;5;28;01mas\u001b[39;00m err:\n\u001b[32m--> \u001b[39m\u001b[32m261\u001b[39m     \u001b[38;5;28;01mraise\u001b[39;00m LoginStrategyUnavailable(\u001b[33mf\u001b[39m\u001b[33m\"\u001b[39m\u001b[33mNo .netrc found at \u001b[39m\u001b[38;5;132;01m{\u001b[39;00mnetrc_loc\u001b[38;5;132;01m}\u001b[39;00m\u001b[33m\"\u001b[39m) \u001b[38;5;28;01mfrom\u001b[39;00m\u001b[38;5;250m \u001b[39m\u001b[34;01merr\u001b[39;00m\n\u001b[32m    262\u001b[39m \u001b[38;5;28;01mexcept\u001b[39;00m NetrcParseError \u001b[38;5;28;01mas\u001b[39;00m err:\n\u001b[32m    263\u001b[39m     \u001b[38;5;28;01mraise\u001b[39;00m LoginStrategyUnavailable(\n\u001b[32m    264\u001b[39m         \u001b[33mf\u001b[39m\u001b[33m\"\u001b[39m\u001b[33mUnable to parse .netrc file \u001b[39m\u001b[38;5;132;01m{\u001b[39;00mnetrc_loc\u001b[38;5;132;01m}\u001b[39;00m\u001b[33m\"\u001b[39m\n\u001b[32m    265\u001b[39m     ) \u001b[38;5;28;01mfrom\u001b[39;00m\u001b[38;5;250m \u001b[39m\u001b[34;01merr\u001b[39;00m\n",
      "\u001b[31mLoginStrategyUnavailable\u001b[39m: No .netrc found at /home/codespace/.netrc"
     ]
    }
   ],
   "source": [
    "auth = earthaccess.login(strategy=\"netrc\")"
   ]
  },
  {
   "cell_type": "code",
   "execution_count": null,
   "id": "6d9726cd-47f2-464f-80f9-d51fb006c545",
   "metadata": {},
   "outputs": [],
   "source": [
    "# using earthaccess authenticated session to fetch restricted files behind EDL\n",
    "req_session = earthaccess.get_requests_https_session()\n",
    "\n",
    "restricted_podaac_resource = \"https://e4ftl01.cr.usgs.gov/ECOB/ECOSTRESS/ECO2LSTE.001/2022.07.13/ECOSTRESS_L2_LSTE_22783_013_20220713T101229_0601_02.h5\"\n",
    "restricted_gesdisc_resource = \"https://data.gesdisc.earthdata.nasa.gov/data/MERGED_IR/GPM_MERGIR.1/1998/002/merg_1998010217_4km-pixel.nc4\"\n",
    "restricted_lpdaac_resource = \"https://data.lpdaac.earthdatacloud.nasa.gov/lp-prod-protected/ASTGTM.003/ASTGTMV003_N01E024_dem.tif\"\n",
    "# reading the first 100 bytes\n",
    "data = req_session.get(restricted_lpdaac_resource, headers={\"Range\": \"bytes=0-100\"})\n",
    "data.text"
   ]
  },
  {
   "cell_type": "code",
   "execution_count": null,
   "id": "8f32b7c0-e9a3-4ea4-b101-6a3cb69179c7",
   "metadata": {},
   "outputs": [],
   "source": [
    "# Using earthaccess to get fsspec sessions and open remote resources behind EDL as local files\n",
    "fs = earthaccess.get_fsspec_https_session()\n",
    "\n",
    "with fs.open(restricted_gesdisc_resource) as f:\n",
    "    print(f.read(20))"
   ]
  },
  {
   "cell_type": "markdown",
   "id": "ac5cb775-ac1a-4bd8-9c47-0d1baaabd718",
   "metadata": {
    "tags": []
   },
   "source": [
    "## Authentication in the cloud\n",
    "\n",
    "If the collection is a cloud-hosted collection we can print the `summary()` and get the endpouint to the S3 credentials. These S3 credentials are temporary and we can use them with third party libraries such as s3fs, boto3 or awscli."
   ]
  },
  {
   "cell_type": "code",
   "execution_count": null,
   "id": "9ecafd00-d5d5-4c10-99a8-5e48f2614407",
   "metadata": {},
   "outputs": [],
   "source": [
    "from pprint import pprint\n",
    "\n",
    "query = earthaccess.collection_query()\n",
    "# This always returns an array\n",
    "datasets = query.cloud_hosted(True).keyword(\"GLAH14\").get(2)\n",
    "\n",
    "for dataset in datasets:\n",
    "    pprint(dataset.summary())"
   ]
  },
  {
   "cell_type": "code",
   "execution_count": null,
   "id": "2044634d-2d60-4890-a357-8dcbc9f03fd2",
   "metadata": {
    "tags": []
   },
   "outputs": [],
   "source": [
    "# C2153549818-NSIDC_CPRD\n",
    "granules = earthaccess.granule_query().concept_id(\"C2153549818-NSIDC_CPRD\").get(10)\n",
    "# granules = earthaccess.granule_query().concept_id(\"C1000000461-NSIDC_ECS\").get(10)\n",
    "granules[0]"
   ]
  },
  {
   "cell_type": "code",
   "execution_count": null,
   "id": "159b710c-531b-4c65-ae44-d7c2a0f3c9bb",
   "metadata": {
    "tags": []
   },
   "outputs": [],
   "source": [
    "file = earthaccess.download(granules[0:2], \"data\")"
   ]
  },
  {
   "cell_type": "markdown",
   "id": "5bfff66e-d716-4e0e-9cb7-c77d250c714d",
   "metadata": {},
   "source": [
    "## Getting temporary S3 credentials\n",
    "\n",
    "Some DAACs (ASF) require to accept EULAs to be able to access their S3 Buckets. "
   ]
  },
  {
   "cell_type": "code",
   "execution_count": null,
   "id": "089b888b-31d7-40f8-88f5-c41752bacb97",
   "metadata": {},
   "outputs": [],
   "source": [
    "temp_s3_credentials = earthaccess.get_s3_credentials(\"ORNLDAAC\")\n",
    "# these credentials expire after 1 hour\n",
    "temp_s3_credentials"
   ]
  }
 ],
 "metadata": {
  "kernelspec": {
   "display_name": "Python 3 (ipykernel)",
   "language": "python",
   "name": "python3"
  },
  "language_info": {
   "codemirror_mode": {
    "name": "ipython",
    "version": 3
   },
   "file_extension": ".py",
   "mimetype": "text/x-python",
   "name": "python",
   "nbconvert_exporter": "python",
   "pygments_lexer": "ipython3",
   "version": "3.12.1"
  }
 },
 "nbformat": 4,
 "nbformat_minor": 5
}
