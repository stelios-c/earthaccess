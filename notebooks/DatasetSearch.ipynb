{
 "cells": [
  {
   "cell_type": "code",
   "execution_count": 2,
   "id": "97b3be38-b42f-4629-897f-9e1486abdbcc",
   "metadata": {},
   "outputs": [
    {
     "name": "stdout",
     "output_type": "stream",
     "text": [
      "Collecting earthaccess\n",
      "  Downloading earthaccess-0.14.0-py3-none-any.whl.metadata (8.2 kB)\n",
      "Requirement already satisfied: fsspec>=2022.11 in /home/codespace/.local/lib/python3.12/site-packages (from earthaccess) (2024.6.1)\n",
      "Collecting importlib-resources>=6.3.2 (from earthaccess)\n",
      "  Using cached importlib_resources-6.5.2-py3-none-any.whl.metadata (3.9 kB)\n",
      "Collecting multimethod>=1.8 (from earthaccess)\n",
      "  Using cached multimethod-2.0-py3-none-any.whl.metadata (9.2 kB)\n",
      "Collecting pqdm>=0.1 (from earthaccess)\n",
      "  Using cached pqdm-0.2.0-py2.py3-none-any.whl.metadata (3.2 kB)\n",
      "Collecting python-cmr>=0.10.0 (from earthaccess)\n",
      "  Using cached python_cmr-0.13.0-py3-none-any.whl.metadata (10 kB)\n",
      "Requirement already satisfied: requests>=2.26 in /home/codespace/.local/lib/python3.12/site-packages (from earthaccess) (2.32.3)\n",
      "Collecting s3fs>=2022.11 (from earthaccess)\n",
      "  Using cached s3fs-2025.3.2-py3-none-any.whl.metadata (1.9 kB)\n",
      "Collecting tinynetrc>=1.3.1 (from earthaccess)\n",
      "  Using cached tinynetrc-1.3.1-py2.py3-none-any.whl.metadata (2.9 kB)\n",
      "Requirement already satisfied: typing-extensions>=4.10.0 in /home/codespace/.local/lib/python3.12/site-packages (from earthaccess) (4.12.2)\n",
      "Collecting bounded-pool-executor (from pqdm>=0.1->earthaccess)\n",
      "  Using cached bounded_pool_executor-0.0.3-py3-none-any.whl.metadata (2.7 kB)\n",
      "Collecting tqdm (from pqdm>=0.1->earthaccess)\n",
      "  Using cached tqdm-4.67.1-py3-none-any.whl.metadata (57 kB)\n",
      "Requirement already satisfied: python-dateutil<3.0.0,>=2.8.2 in /home/codespace/.local/lib/python3.12/site-packages (from python-cmr>=0.10.0->earthaccess) (2.9.0.post0)\n",
      "Requirement already satisfied: charset-normalizer<4,>=2 in /home/codespace/.local/lib/python3.12/site-packages (from requests>=2.26->earthaccess) (3.4.1)\n",
      "Requirement already satisfied: idna<4,>=2.5 in /home/codespace/.local/lib/python3.12/site-packages (from requests>=2.26->earthaccess) (3.10)\n",
      "Requirement already satisfied: urllib3<3,>=1.21.1 in /home/codespace/.local/lib/python3.12/site-packages (from requests>=2.26->earthaccess) (2.3.0)\n",
      "Requirement already satisfied: certifi>=2017.4.17 in /home/codespace/.local/lib/python3.12/site-packages (from requests>=2.26->earthaccess) (2025.1.31)\n",
      "Collecting aiobotocore<3.0.0,>=2.5.4 (from s3fs>=2022.11->earthaccess)\n",
      "  Using cached aiobotocore-2.21.1-py3-none-any.whl.metadata (24 kB)\n",
      "Collecting fsspec>=2022.11 (from earthaccess)\n",
      "  Using cached fsspec-2025.3.2-py3-none-any.whl.metadata (11 kB)\n",
      "Collecting aiohttp!=4.0.0a0,!=4.0.0a1 (from s3fs>=2022.11->earthaccess)\n",
      "  Downloading aiohttp-3.11.18-cp312-cp312-manylinux_2_17_x86_64.manylinux2014_x86_64.whl.metadata (7.7 kB)\n",
      "Collecting aioitertools<1.0.0,>=0.5.1 (from aiobotocore<3.0.0,>=2.5.4->s3fs>=2022.11->earthaccess)\n",
      "  Using cached aioitertools-0.12.0-py3-none-any.whl.metadata (3.8 kB)\n",
      "Collecting botocore<1.37.2,>=1.37.0 (from aiobotocore<3.0.0,>=2.5.4->s3fs>=2022.11->earthaccess)\n",
      "  Using cached botocore-1.37.1-py3-none-any.whl.metadata (5.7 kB)\n",
      "Collecting jmespath<2.0.0,>=0.7.1 (from aiobotocore<3.0.0,>=2.5.4->s3fs>=2022.11->earthaccess)\n",
      "  Using cached jmespath-1.0.1-py3-none-any.whl.metadata (7.6 kB)\n",
      "Collecting multidict<7.0.0,>=6.0.0 (from aiobotocore<3.0.0,>=2.5.4->s3fs>=2022.11->earthaccess)\n",
      "  Downloading multidict-6.4.3-cp312-cp312-manylinux_2_17_x86_64.manylinux2014_x86_64.whl.metadata (5.3 kB)\n",
      "Collecting wrapt<2.0.0,>=1.10.10 (from aiobotocore<3.0.0,>=2.5.4->s3fs>=2022.11->earthaccess)\n",
      "  Downloading wrapt-1.17.2-cp312-cp312-manylinux_2_5_x86_64.manylinux1_x86_64.manylinux_2_17_x86_64.manylinux2014_x86_64.whl.metadata (6.4 kB)\n",
      "Collecting aiohappyeyeballs>=2.3.0 (from aiohttp!=4.0.0a0,!=4.0.0a1->s3fs>=2022.11->earthaccess)\n",
      "  Using cached aiohappyeyeballs-2.6.1-py3-none-any.whl.metadata (5.9 kB)\n",
      "Collecting aiosignal>=1.1.2 (from aiohttp!=4.0.0a0,!=4.0.0a1->s3fs>=2022.11->earthaccess)\n",
      "  Using cached aiosignal-1.3.2-py2.py3-none-any.whl.metadata (3.8 kB)\n",
      "Requirement already satisfied: attrs>=17.3.0 in /home/codespace/.local/lib/python3.12/site-packages (from aiohttp!=4.0.0a0,!=4.0.0a1->s3fs>=2022.11->earthaccess) (25.3.0)\n",
      "Collecting frozenlist>=1.1.1 (from aiohttp!=4.0.0a0,!=4.0.0a1->s3fs>=2022.11->earthaccess)\n",
      "  Downloading frozenlist-1.6.0-cp312-cp312-manylinux_2_5_x86_64.manylinux1_x86_64.manylinux_2_17_x86_64.manylinux2014_x86_64.whl.metadata (16 kB)\n",
      "Collecting propcache>=0.2.0 (from aiohttp!=4.0.0a0,!=4.0.0a1->s3fs>=2022.11->earthaccess)\n",
      "  Downloading propcache-0.3.1-cp312-cp312-manylinux_2_17_x86_64.manylinux2014_x86_64.whl.metadata (10 kB)\n",
      "Collecting yarl<2.0,>=1.17.0 (from aiohttp!=4.0.0a0,!=4.0.0a1->s3fs>=2022.11->earthaccess)\n",
      "  Downloading yarl-1.20.0-cp312-cp312-manylinux_2_17_x86_64.manylinux2014_x86_64.whl.metadata (72 kB)\n",
      "Requirement already satisfied: six>=1.5 in /home/codespace/.local/lib/python3.12/site-packages (from python-dateutil<3.0.0,>=2.8.2->python-cmr>=0.10.0->earthaccess) (1.17.0)\n",
      "Downloading earthaccess-0.14.0-py3-none-any.whl (64 kB)\n",
      "Downloading importlib_resources-6.5.2-py3-none-any.whl (37 kB)\n",
      "Downloading multimethod-2.0-py3-none-any.whl (9.8 kB)\n",
      "Downloading pqdm-0.2.0-py2.py3-none-any.whl (6.8 kB)\n",
      "Downloading python_cmr-0.13.0-py3-none-any.whl (14 kB)\n",
      "Downloading s3fs-2025.3.2-py3-none-any.whl (30 kB)\n",
      "Downloading fsspec-2025.3.2-py3-none-any.whl (194 kB)\n",
      "Downloading tinynetrc-1.3.1-py2.py3-none-any.whl (3.9 kB)\n",
      "Downloading aiobotocore-2.21.1-py3-none-any.whl (78 kB)\n",
      "Downloading aiohttp-3.11.18-cp312-cp312-manylinux_2_17_x86_64.manylinux2014_x86_64.whl (1.7 MB)\n",
      "\u001b[2K   \u001b[90m━━━━━━━━━━━━━━━━━━━━━━━━━━━━━━━━━━━━━━━━\u001b[0m \u001b[32m1.7/1.7 MB\u001b[0m \u001b[31m30.9 MB/s\u001b[0m eta \u001b[36m0:00:00\u001b[0m\n",
      "\u001b[?25hDownloading bounded_pool_executor-0.0.3-py3-none-any.whl (3.4 kB)\n",
      "Downloading tqdm-4.67.1-py3-none-any.whl (78 kB)\n",
      "Downloading aiohappyeyeballs-2.6.1-py3-none-any.whl (15 kB)\n",
      "Downloading aioitertools-0.12.0-py3-none-any.whl (24 kB)\n",
      "Downloading aiosignal-1.3.2-py2.py3-none-any.whl (7.6 kB)\n",
      "Downloading botocore-1.37.1-py3-none-any.whl (13.4 MB)\n",
      "\u001b[2K   \u001b[90m━━━━━━━━━━━━━━━━━━━━━━━━━━━━━━━━━━━━━━━━\u001b[0m \u001b[32m13.4/13.4 MB\u001b[0m \u001b[31m66.3 MB/s\u001b[0m eta \u001b[36m0:00:00\u001b[0m\n",
      "\u001b[?25hDownloading frozenlist-1.6.0-cp312-cp312-manylinux_2_5_x86_64.manylinux1_x86_64.manylinux_2_17_x86_64.manylinux2014_x86_64.whl (316 kB)\n",
      "Downloading jmespath-1.0.1-py3-none-any.whl (20 kB)\n",
      "Downloading multidict-6.4.3-cp312-cp312-manylinux_2_17_x86_64.manylinux2014_x86_64.whl (223 kB)\n",
      "Downloading propcache-0.3.1-cp312-cp312-manylinux_2_17_x86_64.manylinux2014_x86_64.whl (245 kB)\n",
      "Downloading wrapt-1.17.2-cp312-cp312-manylinux_2_5_x86_64.manylinux1_x86_64.manylinux_2_17_x86_64.manylinux2014_x86_64.whl (89 kB)\n",
      "Downloading yarl-1.20.0-cp312-cp312-manylinux_2_17_x86_64.manylinux2014_x86_64.whl (349 kB)\n",
      "Installing collected packages: tinynetrc, bounded-pool-executor, wrapt, tqdm, propcache, multimethod, multidict, jmespath, importlib-resources, fsspec, frozenlist, aioitertools, aiohappyeyeballs, yarl, python-cmr, pqdm, botocore, aiosignal, aiohttp, aiobotocore, s3fs, earthaccess\n",
      "  Attempting uninstall: fsspec\n",
      "    Found existing installation: fsspec 2024.6.1\n",
      "    Uninstalling fsspec-2024.6.1:\n",
      "      Successfully uninstalled fsspec-2024.6.1\n",
      "Successfully installed aiobotocore-2.21.1 aiohappyeyeballs-2.6.1 aiohttp-3.11.18 aioitertools-0.12.0 aiosignal-1.3.2 botocore-1.37.1 bounded-pool-executor-0.0.3 earthaccess-0.14.0 frozenlist-1.6.0 fsspec-2025.3.2 importlib-resources-6.5.2 jmespath-1.0.1 multidict-6.4.3 multimethod-2.0 pqdm-0.2.0 propcache-0.3.1 python-cmr-0.13.0 s3fs-2025.3.2 tinynetrc-1.3.1 tqdm-4.67.1 wrapt-1.17.2 yarl-1.20.0\n",
      "Note: you may need to restart the kernel to use updated packages.\n"
     ]
    }
   ],
   "source": [
    "%pip install earthaccess"
   ]
  },
  {
   "cell_type": "code",
   "execution_count": 4,
   "id": "1c1f0fdd-e065-403a-80ca-8a2a6a7eed48",
   "metadata": {},
   "outputs": [
    {
     "name": "stdout",
     "output_type": "stream",
     "text": [
      "Collecting IProgress\n",
      "  Downloading IProgress-0.4-py3-none-any.whl.metadata (2.1 kB)\n",
      "Requirement already satisfied: six in /home/codespace/.local/lib/python3.12/site-packages (from IProgress) (1.17.0)\n",
      "Downloading IProgress-0.4-py3-none-any.whl (11 kB)\n",
      "Installing collected packages: IProgress\n",
      "Successfully installed IProgress-0.4\n",
      "Note: you may need to restart the kernel to use updated packages.\n"
     ]
    }
   ],
   "source": [
    "%pip install IProgress "
   ]
  },
  {
   "cell_type": "markdown",
   "id": "47536c27-5f4f-4da7-9649-63ac5fe5bdf8",
   "metadata": {},
   "source": [
    "# Sample queries for datasets\n",
    "\n",
    "The DataCollection class queries for datasets (collections in NASA terminology) and can use a variety of criteria.\n",
    "The basics are the spatio temporal parameters but we can also search based on the data center (or DAAC), the dataset version or cloud hosted data.\n",
    "\n",
    "This notebook provides some examples of how to search for datasets using different parameters.\n",
    "\n",
    "Collection search parameters\n",
    "\n",
    "**dataset origin and location**\n",
    "* archive_center\n",
    "* data_center\n",
    "* daac\n",
    "* provider\n",
    "* cloud_hosted\n",
    "\n",
    "**spatio temporal parameters**\n",
    "* bounding_box\n",
    "* temporal\n",
    "* point\n",
    "* polygon\n",
    "* line\n",
    "\n",
    "**dataset metadata parameters**\n",
    "* concept_id \n",
    "* entry_title\n",
    "* keyword\n",
    "* version\n",
    "* short_name\n",
    "\n",
    "Once the query has been formed with one or more search parameters we can get the results by using either `hits()` or `get()`.\n",
    "\n",
    "* **hits()**: gets the counts for our query, if the search didn't match any result then is 0\n",
    "* **get()**: gets the metadata records for those collections that matched our criteria, we can specify a max i.e. `get(10)`, if we do not specify the default number is 2000\n",
    "\n"
   ]
  },
  {
   "cell_type": "markdown",
   "id": "8a31f359-ca14-49d0-97c1-0845070833ed",
   "metadata": {},
   "source": [
    "## Example #1, querying for cloud enabled data from a given data center (DAAC)"
   ]
  },
  {
   "cell_type": "code",
   "execution_count": 5,
   "id": "f8b80820-94ce-468c-b8cc-69d84a2dadfd",
   "metadata": {},
   "outputs": [
    {
     "data": {
      "text/plain": [
       "153"
      ]
     },
     "execution_count": 5,
     "metadata": {},
     "output_type": "execute_result"
    }
   ],
   "source": [
    "from earthaccess import DataCollections\n",
    "\n",
    "# We only need to specify the DAAC and if we're looking for cloud hosted data\n",
    "query = DataCollections().daac(\"LPDAAC\").cloud_hosted(False)\n",
    "# we use hits to get a count for the collections that match our query\n",
    "query.hits()"
   ]
  },
  {
   "cell_type": "code",
   "execution_count": 6,
   "id": "2e674100-f041-4620-bd33-0ec29f0a8fd8",
   "metadata": {},
   "outputs": [],
   "source": [
    "# Now we get the collections' metadata\n",
    "collections = query.get(10)\n",
    "# let's print only the first collection, uncomment the next line\n",
    "# collections[0]"
   ]
  },
  {
   "cell_type": "code",
   "execution_count": 7,
   "id": "e84a0423-6045-465a-9c1d-2505f9643d26",
   "metadata": {},
   "outputs": [
    {
     "data": {
      "text/plain": [
       "[{'short-name': 'AST_L1T',\n",
       "  'concept-id': 'C1000000320-LPDAAC_ECS',\n",
       "  'version': '003',\n",
       "  'file-type': \"[{'Format': 'HDF-EOS2', 'FormatType': 'Native', 'FormatDescription': 'Hierarchical Data Format - Earth Observing System Version 2', 'Media': ['HTTPS'], 'AverageFileSize': 209.4, 'AverageFileSizeUnit': 'MB', 'TotalCollectionFileSizeBeginDate': '2000-03-04T00:00:00.000Z'}, {'Format': 'GeoTIFF', 'FormatType': 'Supported', 'FormatDescription': 'Georeferenced Tagged Image File Format', 'Media': ['HTTPS']}]\",\n",
       "  'get-data': ['https://e4ftl01.cr.usgs.gov/ASTT/AST_L1T.003/',\n",
       "   'https://search.earthdata.nasa.gov/search?q=C1000000320-LPDAAC_ECS']},\n",
       " {'short-name': 'VNP43IA4',\n",
       "  'concept-id': 'C1407099497-LPDAAC_ECS',\n",
       "  'version': '001',\n",
       "  'file-type': \"[{'Format': 'HDF-EOS5', 'FormatType': 'Native', 'FormatDescription': 'Hierarchical Data Format - Earth Observing System Version 5', 'Media': ['https'], 'AverageFileSize': 16.7, 'AverageFileSizeUnit': 'MB', 'TotalCollectionFileSizeBeginDate': '2012-01-19T00:00:00.000Z'}]\",\n",
       "  'get-data': ['https://e4ftl01.cr.usgs.gov/VIIRS/VNP43IA4.001/',\n",
       "   'https://search.earthdata.nasa.gov/search?q=C1407099497-LPDAAC_ECS',\n",
       "   'https://appeears.earthdatacloud.nasa.gov/']},\n",
       " {'short-name': 'VNP43MA4',\n",
       "  'concept-id': 'C1412449610-LPDAAC_ECS',\n",
       "  'version': '001',\n",
       "  'file-type': \"[{'Format': 'HDF-EOS5', 'FormatType': 'Native', 'FormatDescription': 'Hierarchical Data Format - Earth Observing System Version 5', 'Media': ['https'], 'AverageFileSize': 12, 'AverageFileSizeUnit': 'MB', 'TotalCollectionFileSizeBeginDate': '2012-01-19T00:00:00.000Z'}]\",\n",
       "  'get-data': ['https://e4ftl01.cr.usgs.gov/VIIRS/VNP43MA4.001/',\n",
       "   'https://search.earthdata.nasa.gov/search?q=C1412449610-LPDAAC_ECS',\n",
       "   'https://appeears.earthdatacloud.nasa.gov/']},\n",
       " {'short-name': 'VNP43IA3',\n",
       "  'concept-id': 'C1412449608-LPDAAC_ECS',\n",
       "  'version': '001',\n",
       "  'file-type': \"[{'Format': 'HDF-EOS5', 'FormatType': 'Native', 'FormatDescription': 'Hierarchical Data Format - Earth Observing System Version 5', 'Media': ['https'], 'AverageFileSize': 24, 'AverageFileSizeUnit': 'MB', 'TotalCollectionFileSizeBeginDate': '2012-01-19T00:00:00.000Z'}]\",\n",
       "  'get-data': ['https://e4ftl01.cr.usgs.gov/VIIRS/VNP43IA3.001/',\n",
       "   'https://search.earthdata.nasa.gov/search?q=C1412449608-LPDAAC_ECS',\n",
       "   'https://appeears.earthdatacloud.nasa.gov/']},\n",
       " {'short-name': 'VNP43MA1',\n",
       "  'concept-id': 'C1412449609-LPDAAC_ECS',\n",
       "  'version': '001',\n",
       "  'file-type': \"[{'Format': 'HDF-EOS5', 'FormatType': 'Native', 'FormatDescription': 'Hierarchical Data Format - Earth Observing System Version 5', 'Media': ['https'], 'AverageFileSize': 34, 'AverageFileSizeUnit': 'MB', 'TotalCollectionFileSizeBeginDate': '2012-01-19T00:00:00.000Z'}]\",\n",
       "  'get-data': ['https://e4ftl01.cr.usgs.gov/VIIRS/VNP43MA1.001/',\n",
       "   'https://search.earthdata.nasa.gov/search?q=C1412449609-LPDAAC_ECS',\n",
       "   'https://appeears.earthdatacloud.nasa.gov/']},\n",
       " {'short-name': 'VNP43MA3',\n",
       "  'concept-id': 'C1407099488-LPDAAC_ECS',\n",
       "  'version': '001',\n",
       "  'file-type': \"[{'Format': 'HDF-EOS5', 'FormatType': 'Native', 'FormatDescription': 'Hierarchical Data Format - Earth Observing System Version 5', 'Media': ['https'], 'AverageFileSize': 12, 'AverageFileSizeUnit': 'MB', 'TotalCollectionFileSizeBeginDate': '2012-01-19T00:00:00.000Z'}]\",\n",
       "  'get-data': ['https://e4ftl01.cr.usgs.gov/VIIRS/VNP43MA3.001/',\n",
       "   'https://search.earthdata.nasa.gov/search?q=C1407099488-LPDAAC_ECS',\n",
       "   'https://appeears.earthdatacloud.nasa.gov/']},\n",
       " {'short-name': 'AST_L1A',\n",
       "  'concept-id': 'C14758250-LPDAAC_ECS',\n",
       "  'version': '003',\n",
       "  'file-type': \"[{'Format': 'HDF-EOS2', 'FormatType': 'Native', 'FormatDescription': 'Hierarchical Data Format - Earth Observing System Version 2', 'Media': ['HTTPS'], 'AverageFileSize': 108.4, 'AverageFileSizeUnit': 'MB', 'TotalCollectionFileSizeBeginDate': '2000-03-04T00:00:00.000Z'}]\",\n",
       "  'get-data': ['https://search.earthdata.nasa.gov/search?q=C14758250-LPDAAC_ECS']},\n",
       " {'short-name': 'GEOLST4KHR',\n",
       "  'concept-id': 'C2167682875-LPDAAC_ECS',\n",
       "  'version': '002',\n",
       "  'file-type': \"[{'Format': 'HDF-EOS5', 'FormatType': 'Native', 'FormatDescription': 'Hierarchical Data Format - Earth Observing System Version 5', 'Media': ['https'], 'AverageFileSize': 65.4, 'AverageFileSizeUnit': 'MB', 'TotalCollectionFileSize': 23736753.1, 'TotalCollectionFileSizeUnit': 'MB'}]\",\n",
       "  'get-data': ['https://e4ftl01.cr.usgs.gov/MEASURES/GEOLST4KHR.002/',\n",
       "   'https://search.earthdata.nasa.gov/search?q=C2167682875-LPDAAC_ECS',\n",
       "   'https://appeears.earthdatacloud.nasa.gov/']},\n",
       " {'short-name': 'ECO2LSTE',\n",
       "  'concept-id': 'C1534729776-LPDAAC_ECS',\n",
       "  'version': '001',\n",
       "  'file-type': \"[{'Format': 'HDF5', 'FormatType': 'Native', 'FormatDescription': 'Hierarchical Data Format Version 5', 'Media': ['https'], 'AverageFileSize': 425.3, 'AverageFileSizeUnit': 'MB', 'TotalCollectionFileSizeBeginDate': '2018-07-09T00:00:00.000Z'}]\",\n",
       "  'get-data': ['https://search.earthdata.nasa.gov/search?q=C1534729776-LPDAAC_ECS',\n",
       "   'https://e4ftl01.cr.usgs.gov/ECOSTRESS/ECO2LSTE.001/',\n",
       "   'https://appeears.earthdatacloud.nasa.gov/']},\n",
       " {'short-name': 'VNP43IA1',\n",
       "  'concept-id': 'C1407099489-LPDAAC_ECS',\n",
       "  'version': '001',\n",
       "  'file-type': \"[{'Format': 'HDF-EOS5', 'FormatType': 'Native', 'FormatDescription': 'Hierarchical Data Format - Earth Observing System Version 5', 'Media': ['https'], 'AverageFileSize': 36, 'AverageFileSizeUnit': 'MB', 'TotalCollectionFileSizeBeginDate': '2012-01-19T00:00:00.000Z'}]\",\n",
       "  'get-data': ['https://e4ftl01.cr.usgs.gov/VIIRS/VNP43IA1.001/',\n",
       "   'https://search.earthdata.nasa.gov/search?q=C1407099489-LPDAAC_ECS',\n",
       "   'https://appeears.earthdatacloud.nasa.gov/']}]"
      ]
     },
     "execution_count": 7,
     "metadata": {},
     "output_type": "execute_result"
    }
   ],
   "source": [
    "# We can print a small summary of the dataset, here for the first 10 collections\n",
    "summaries = [collection.summary() for collection in collections]\n",
    "summaries"
   ]
  },
  {
   "cell_type": "markdown",
   "id": "13ef8aab-4f63-4750-8759-6297d5078307",
   "metadata": {},
   "source": [
    "\n",
    "### Searching using keywords\n",
    "\n",
    "> **Note**: Some DAACs don't have cloud hosted collections yet, some have cloud collections but do not allow direct access"
   ]
  },
  {
   "cell_type": "code",
   "execution_count": 10,
   "id": "1b0dca41-41f0-4b2b-a7e4-9a7ab2a423bb",
   "metadata": {},
   "outputs": [
    {
     "data": {
      "text/plain": [
       "564"
      ]
     },
     "execution_count": 10,
     "metadata": {},
     "output_type": "execute_result"
    }
   ],
   "source": [
    "# Now let's search using keyword and daac\n",
    "# from earthaccess import DataCollections\n",
    "\n",
    "query = DataCollections().keyword(\"*ice*\").daac(\"NSIDC\")\n",
    "# we use hits to get a count for the collections that match our query\n",
    "query.hits()"
   ]
  },
  {
   "cell_type": "code",
   "execution_count": 13,
   "id": "6eca99e5-0e46-42de-a507-4cc4c0078187",
   "metadata": {},
   "outputs": [
    {
     "data": {
      "text/plain": [
       "16"
      ]
     },
     "execution_count": 13,
     "metadata": {},
     "output_type": "execute_result"
    }
   ],
   "source": [
    "# Now let's search using keyword and daac\n",
    "query = DataCollections().keyword(\"sea ice concentration\").daac(\"NSIDC\")\n",
    "# we use hits to get a count for the collections that match our query\n",
    "query.hits()"
   ]
  },
  {
   "cell_type": "code",
   "execution_count": 14,
   "id": "197dece4-02dc-4622-964c-41ca6a275cae",
   "metadata": {},
   "outputs": [],
   "source": [
    "# Let's get only the info on the first 10 collections and filter the fields\n",
    "collections = query.get(10)\n",
    "# let's print just the first collection, do you really want to look at all the metadata ?"
   ]
  },
  {
   "cell_type": "code",
   "execution_count": 15,
   "id": "ec85fa1a-c704-4f6a-9226-72dd0c528c52",
   "metadata": {},
   "outputs": [
    {
     "data": {
      "text/plain": [
       "[{'short-name': 'AU_SI12',\n",
       "  'concept-id': 'C1542606326-NSIDC_ECS',\n",
       "  'version': '1',\n",
       "  'file-type': \"[{'FormatType': 'Native', 'Format': 'HDF-EOS5', 'FormatDescription': 'HTTPS'}, {'FormatType': 'Native', 'Format': 'ASCII', 'FormatDescription': 'HTTPS'}]\",\n",
       "  'get-data': ['https://n5eil01u.ecs.nsidc.org/AMSA/AU_SI12.001',\n",
       "   'https://search.earthdata.nasa.gov/search?q=AU_SI12+V001',\n",
       "   'https://nsidc.org/data/data-access-tool/AU_SI12/versions/1/',\n",
       "   'https://n5eil01u.ecs.nsidc.org/AMSA/AU_SI12.001',\n",
       "   'https://search.earthdata.nasa.gov/search?q=AU_SI12+V001',\n",
       "   'https://nsidc.org/data/data-access-tool/AU_SI12/versions/1/']},\n",
       " {'short-name': 'NSIDC-0051',\n",
       "  'concept-id': 'C2399557265-NSIDC_ECS',\n",
       "  'version': '2',\n",
       "  'file-type': \"[{'FormatType': 'Native', 'Format': 'PNG', 'FormatDescription': 'HTTPS'}, {'FormatType': 'Native', 'Format': 'netCDF-4', 'FormatDescription': 'HTTPS'}]\",\n",
       "  'get-data': ['https://n5eil01u.ecs.nsidc.org/PM/NSIDC-0051.002/',\n",
       "   'https://search.earthdata.nasa.gov/search?q=NSIDC-0051+V002',\n",
       "   'https://nsidc.org/data/data-access-tool/NSIDC-0051/versions/2/',\n",
       "   'https://n5eil01u.ecs.nsidc.org/PM/NSIDC-0051.002/',\n",
       "   'https://search.earthdata.nasa.gov/search?q=NSIDC-0051+V002',\n",
       "   'https://nsidc.org/data/data-access-tool/NSIDC-0051/versions/2/']},\n",
       " {'short-name': 'NSIDC-0081',\n",
       "  'concept-id': 'C2176562253-NSIDC_ECS',\n",
       "  'version': '2',\n",
       "  'file-type': \"[{'FormatType': 'Native', 'Format': 'PNG', 'FormatDescription': 'HTTPS'}, {'FormatType': 'Native', 'Format': 'NetCDF', 'FormatDescription': 'HTTPS'}]\",\n",
       "  'get-data': ['https://n5eil01u.ecs.nsidc.org/PM/NSIDC-0081.002/',\n",
       "   'https://search.earthdata.nasa.gov/search?q=NSIDC-0081+V002',\n",
       "   'https://nsidc.org/data/data-access-tool/NSIDC-0081/versions/2/',\n",
       "   'https://n5eil01u.ecs.nsidc.org/PM/NSIDC-0081.002/',\n",
       "   'https://search.earthdata.nasa.gov/search?q=NSIDC-0081+V002',\n",
       "   'https://nsidc.org/data/data-access-tool/NSIDC-0081/versions/2/']},\n",
       " {'short-name': 'AU_SI25',\n",
       "  'concept-id': 'C1542606320-NSIDC_ECS',\n",
       "  'version': '1',\n",
       "  'file-type': \"[{'FormatType': 'Native', 'Format': 'HDF-EOS5', 'FormatDescription': 'HTTPS'}]\",\n",
       "  'get-data': ['https://n5eil01u.ecs.nsidc.org/AMSA/AU_SI25.001/',\n",
       "   'https://search.earthdata.nasa.gov/search?q=AU_SI25+V001',\n",
       "   'https://nsidc.org/data/data-access-tool/AU_SI25/versions/1/']},\n",
       " {'short-name': 'NSIDC-0079',\n",
       "  'concept-id': 'C2794540918-NSIDC_ECS',\n",
       "  'version': '4',\n",
       "  'file-type': \"[{'FormatType': 'Native', 'Format': 'netCDF-4', 'FormatDescription': 'HTTPS'}]\",\n",
       "  'get-data': ['https://n5eil01u.ecs.nsidc.org/PM/NSIDC-0079.004/',\n",
       "   'https://search.earthdata.nasa.gov/search?q=NSIDC-0079+V004',\n",
       "   'https://nsidc.org/data/data-access-tool/NSIDC-0079/versions/4/']},\n",
       " {'short-name': 'AE_SI12',\n",
       "  'concept-id': 'C1452437262-NSIDC_ECS',\n",
       "  'version': '3',\n",
       "  'file-type': \"[{'FormatType': 'Native', 'Format': 'HDF-EOS2', 'FormatDescription': 'HTTPS'}]\",\n",
       "  'get-data': ['https://n5eil01u.ecs.nsidc.org/AMSA/AE_SI12.003',\n",
       "   'https://search.earthdata.nasa.gov/search?q=AE_SI12+V003',\n",
       "   'https://nsidc.org/data/data-access-tool/AE_SI12/versions/3/']},\n",
       " {'short-name': 'AE_SI25',\n",
       "  'concept-id': 'C1489170961-NSIDC_ECS',\n",
       "  'version': '3',\n",
       "  'file-type': \"[{'FormatType': 'Native', 'Format': 'HDF-EOS2', 'FormatDescription': 'HTTPS'}]\",\n",
       "  'get-data': ['https://n5eil01u.ecs.nsidc.org/AMSA/AE_SI25.003/',\n",
       "   'https://search.earthdata.nasa.gov/search?q=AE_SI25+V003',\n",
       "   'https://nsidc.org/data/data-access-tool/AE_SI25/versions/3/']},\n",
       " {'short-name': 'SMAP_L1_L3_ANC_NOAA',\n",
       "  'concept-id': 'C1539129339-NSIDC_ECS',\n",
       "  'version': '1',\n",
       "  'file-type': \"[{'FormatType': 'Native', 'Format': 'NetCDF', 'FormatDescription': 'HTTPS'}, {'FormatType': 'Native', 'Format': 'ASCII', 'FormatDescription': 'HTTPS'}]\",\n",
       "  'get-data': ['https://n5eil01u.ecs.nsidc.org/SMAP_ANC/SMAP_L1_L3_ANC_NOAA.001/',\n",
       "   'https://search.earthdata.nasa.gov/search?q=SMAP_L1_L3_ANC_NOAA+V001',\n",
       "   'https://n5eil01u.ecs.nsidc.org/SMAP_ANC/SMAP_L1_L3_ANC_NOAA.001/',\n",
       "   'https://search.earthdata.nasa.gov/search?q=SMAP_L1_L3_ANC_NOAA+V001']},\n",
       " {'short-name': 'NISE',\n",
       "  'concept-id': 'C1449515322-NSIDC_ECS',\n",
       "  'version': '5',\n",
       "  'file-type': \"[{'FormatType': 'Native', 'Format': 'HDF-EOS2', 'FormatDescription': 'HTTPS'}]\",\n",
       "  'get-data': ['https://n5eil01u.ecs.nsidc.org/OTHR/NISE.005/',\n",
       "   'http://nsidc.org/daac/subscriptions.html',\n",
       "   'https://search.earthdata.nasa.gov/search?q=NISE+V005',\n",
       "   'https://nsidc.org/data/data-access-tool/NISE/versions/5/']},\n",
       " {'short-name': 'RDEFT4',\n",
       "  'concept-id': 'C1431413941-NSIDC_ECS',\n",
       "  'version': '1',\n",
       "  'file-type': \"[{'FormatType': 'Native', 'Format': 'PNG', 'FormatDescription': 'HTTPS'}, {'FormatType': 'Native', 'Format': 'NetCDF', 'FormatDescription': 'HTTPS'}]\",\n",
       "  'get-data': ['https://nsidc.org/icebridge/portal/',\n",
       "   'https://n5eil01u.ecs.nsidc.org/ICEBRIDGE/RDEFT4.001/',\n",
       "   'https://search.earthdata.nasa.gov/search?q=RDEFT4+V001',\n",
       "   'https://nsidc.org/data/data-access-tool/RDEFT4/versions/1/',\n",
       "   'https://nsidc.org/icebridge/portal/',\n",
       "   'https://n5eil01u.ecs.nsidc.org/ICEBRIDGE/RDEFT4.001/',\n",
       "   'https://search.earthdata.nasa.gov/search?q=RDEFT4+V001',\n",
       "   'https://nsidc.org/data/data-access-tool/RDEFT4/versions/1/']}]"
      ]
     },
     "execution_count": 15,
     "metadata": {},
     "output_type": "execute_result"
    }
   ],
   "source": [
    "# We can print a small summary of the dataset, here for the first 10 collections again\n",
    "summaries = [collection.summary() for collection in collections]\n",
    "summaries"
   ]
  },
  {
   "cell_type": "code",
   "execution_count": 16,
   "id": "65dd1d56-937f-437e-b8a7-733c3559b4d0",
   "metadata": {},
   "outputs": [
    {
     "data": {
      "text/plain": [
       "3725"
      ]
     },
     "execution_count": 16,
     "metadata": {},
     "output_type": "execute_result"
    }
   ],
   "source": [
    "query = DataCollections().cloud_hosted(True).bounding_box(-180, 70, 180, 85)\n",
    "\n",
    "query.hits()"
   ]
  },
  {
   "cell_type": "code",
   "execution_count": 19,
   "id": "f5a4235d-545e-40e7-8972-4519912b3a5f",
   "metadata": {},
   "outputs": [
    {
     "name": "stdout",
     "output_type": "stream",
     "text": [
      "{'short-name': 'RDEFT4', 'concept-id': 'C1431413941-NSIDC_ECS', 'version': '1', 'file-type': \"[{'FormatType': 'Native', 'Format': 'PNG', 'FormatDescription': 'HTTPS'}, {'FormatType': 'Native', 'Format': 'NetCDF', 'FormatDescription': 'HTTPS'}]\", 'get-data': ['https://nsidc.org/icebridge/portal/', 'https://n5eil01u.ecs.nsidc.org/ICEBRIDGE/RDEFT4.001/', 'https://search.earthdata.nasa.gov/search?q=RDEFT4+V001', 'https://nsidc.org/data/data-access-tool/RDEFT4/versions/1/', 'https://nsidc.org/icebridge/portal/', 'https://n5eil01u.ecs.nsidc.org/ICEBRIDGE/RDEFT4.001/', 'https://search.earthdata.nasa.gov/search?q=RDEFT4+V001', 'https://nsidc.org/data/data-access-tool/RDEFT4/versions/1/']} \n",
      "\n"
     ]
    }
   ],
   "source": [
    "query = (\n",
    "    DataCollections()\n",
    "    #.cloud_hosted(True)\n",
    "    .short_name(\"RDEFT4\")\n",
    ")\n",
    "for c in query.get(40):\n",
    "    print(c.summary(), \"\\n\")"
   ]
  },
  {
   "cell_type": "code",
   "execution_count": 20,
   "id": "266c19e0-918b-4f27-b52c-a5a95af69fc5",
   "metadata": {},
   "outputs": [
    {
     "data": {
      "text/plain": [
       "1"
      ]
     },
     "execution_count": 20,
     "metadata": {},
     "output_type": "execute_result"
    }
   ],
   "source": [
    "query.hits()"
   ]
  },
  {
   "cell_type": "code",
   "execution_count": null,
   "id": "61068ccf-f6e2-4742-a845-de04bbf98137",
   "metadata": {},
   "outputs": [],
   "source": []
  }
 ],
 "metadata": {
  "kernelspec": {
   "display_name": "Python 3 (ipykernel)",
   "language": "python",
   "name": "python3"
  },
  "language_info": {
   "codemirror_mode": {
    "name": "ipython",
    "version": 3
   },
   "file_extension": ".py",
   "mimetype": "text/x-python",
   "name": "python",
   "nbconvert_exporter": "python",
   "pygments_lexer": "ipython3",
   "version": "3.12.1"
  }
 },
 "nbformat": 4,
 "nbformat_minor": 5
}
